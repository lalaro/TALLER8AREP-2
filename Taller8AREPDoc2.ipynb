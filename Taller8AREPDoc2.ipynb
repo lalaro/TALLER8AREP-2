{
 "cells": [
  {
   "cell_type": "markdown",
   "id": "44b4bbab-d6c9-42db-9032-04a4031aed43",
   "metadata": {},
   "source": [
    "## Taller 8 AREP 2\n",
    "\n",
    "Antes de empezar, necesitamos instalar LangChain y las dependencias necesarias. Dependiendo del entorno, en este caso usaremos pip"
   ]
  },
  {
   "cell_type": "code",
   "execution_count": 1,
   "id": "0098a115",
   "metadata": {},
   "outputs": [
    {
     "name": "stdout",
     "output_type": "stream",
     "text": [
      "Note: you may need to restart the kernel to use updated packages.\n"
     ]
    }
   ],
   "source": [
    "%pip install --quiet --upgrade langchain-text-splitters langchain-community langgraph"
   ]
  },
  {
   "cell_type": "markdown",
   "id": "c6ab300b",
   "metadata": {},
   "source": [
    "# Cargar Documentos\n",
    "\n",
    "Se pueden cargar documentos desde diferentes formatos. En este caso, usaremos TextLoader para cargar un archivo de texto.\n",
    "1. os.environ[\"LANGSMITH_TRACING\"] = \"true\" → Activa el rastreo (tracing) en LangSmith.\n",
    "2. os.environ[\"LANGSMITH_API_KEY\"] = \"...\" → Guarda la clave API en una variable de entorno para autenticar el uso de LangSmith."
   ]
  },
  {
   "cell_type": "code",
   "execution_count": null,
   "id": "8bf834c8",
   "metadata": {},
   "outputs": [],
   "source": [
    "import getpass\n",
    "import os\n",
    "\n",
    "os.environ[\"LANGSMITH_TRACING\"] = \"true\"\n",
    "os.environ[\"LANGSMITH_API_KEY\"] = \"acá va la clave\""
   ]
  },
  {
   "cell_type": "markdown",
   "id": "acd39950",
   "metadata": {},
   "source": [
    "Instala y actualiza LangChain con soporte para OpenAI."
   ]
  },
  {
   "cell_type": "code",
   "execution_count": 23,
   "id": "f0394528",
   "metadata": {},
   "outputs": [
    {
     "name": "stdout",
     "output_type": "stream",
     "text": [
      "Note: you may need to restart the kernel to use updated packages.\n"
     ]
    }
   ],
   "source": [
    "pip install -qU \"langchain[openai]\""
   ]
  },
  {
   "cell_type": "markdown",
   "id": "f6e93509",
   "metadata": {},
   "source": [
    "## Componentes\n",
    "\n",
    "Este código configura una API de OpenAI en LangChain:\n",
    "\n",
    "Manejo de variables de entorno → Configura la clave de API de OpenAI si no está definida.\n",
    "Entrada segura → Solicita la clave de API de forma segura si es necesario.\n",
    "Inicialización del modelo → Carga un modelo de lenguaje (gpt-4o-mini) de OpenAI para su uso en LangChain."
   ]
  },
  {
   "cell_type": "code",
   "execution_count": 2,
   "id": "7425d013",
   "metadata": {},
   "outputs": [],
   "source": [
    "import getpass\n",
    "import os\n",
    "\n",
    "if not os.environ.get(\"OPENAI_API_KEY\"):\n",
    "  os.environ[\"OPENAI_API_KEY\"] = getpass.getpass(\"Enter API key for OpenAI: \")\n",
    "\n",
    "from langchain.chat_models import init_chat_model\n",
    "\n",
    "llm = init_chat_model(\"gpt-4o-mini\", model_provider=\"openai\")"
   ]
  },
  {
   "cell_type": "markdown",
   "id": "2c4fd395",
   "metadata": {},
   "source": [
    "Este comando instala o actualiza silenciosamente (-qU) el paquete langchain-openai, que permite la integración de modelos de OpenAI en LangChain."
   ]
  },
  {
   "cell_type": "code",
   "execution_count": 3,
   "id": "cdceea1c",
   "metadata": {},
   "outputs": [
    {
     "name": "stdout",
     "output_type": "stream",
     "text": [
      "Note: you may need to restart the kernel to use updated packages.\n"
     ]
    }
   ],
   "source": [
    "pip install -qU langchain-openai"
   ]
  },
  {
   "cell_type": "markdown",
   "id": "303d9b01",
   "metadata": {},
   "source": [
    "Carga la clave de API de OpenAI y crea una instancia de OpenAIEmbeddings para convertir texto en vectores usando el modelo text-embedding-3-large."
   ]
  },
  {
   "cell_type": "code",
   "execution_count": null,
   "id": "a527542a",
   "metadata": {},
   "outputs": [],
   "source": [
    "import getpass\n",
    "import os\n",
    "\n",
    "if not os.environ.get(\"OPENAI_API_KEY\"):\n",
    "  os.environ[\"OPENAI_API_KEY\"] = getpass.getpass(\"Enter API key for OpenAI: \")\n",
    "\n",
    "from langchain_openai import OpenAIEmbeddings\n",
    "\n",
    "embeddings = OpenAIEmbeddings(model=\"text-embedding-3-large\")"
   ]
  },
  {
   "cell_type": "markdown",
   "id": "f2f64a6f",
   "metadata": {},
   "source": [
    "Instalar o actualizar silenciosamente el paquete langchain-core, que contiene las funcionalidades principales de LangChain."
   ]
  },
  {
   "cell_type": "code",
   "execution_count": 4,
   "id": "313030eb",
   "metadata": {},
   "outputs": [
    {
     "name": "stdout",
     "output_type": "stream",
     "text": [
      "Note: you may need to restart the kernel to use updated packages.\n"
     ]
    }
   ],
   "source": [
    "pip install -qU langchain-core"
   ]
  },
  {
   "cell_type": "markdown",
   "id": "5ce910ed",
   "metadata": {},
   "source": [
    "Crea un almacén de vectores en memoria utilizando los embeddings generados, permitiendo búsquedas eficientes de similitud."
   ]
  },
  {
   "cell_type": "code",
   "execution_count": null,
   "id": "659ae200",
   "metadata": {},
   "outputs": [],
   "source": [
    "from langchain_core.vectorstores import InMemoryVectorStore\n",
    "\n",
    "vector_store = InMemoryVectorStore(embeddings)"
   ]
  },
  {
   "cell_type": "markdown",
   "id": "cbb8badb",
   "metadata": {},
   "source": [
    "El código carga y procesa el contenido de un blog, lo divide en fragmentos, los indexa en un vector store y luego implementa un sistema RAG. Este sistema recupera información relevante según una pregunta, genera una respuesta con un modelo de lenguaje y ejecuta el flujo con un grafo de estado."
   ]
  },
  {
   "cell_type": "code",
   "execution_count": null,
   "id": "ae835d06-f4fb-4492-b85f-a76a13e27e8c",
   "metadata": {},
   "outputs": [
    {
     "ename": "NameError",
     "evalue": "name 'vector_store' is not defined",
     "output_type": "error",
     "traceback": [
      "\u001b[1;31m---------------------------------------------------------------------------\u001b[0m",
      "\u001b[1;31mNameError\u001b[0m                                 Traceback (most recent call last)",
      "Cell \u001b[1;32mIn[9], line 24\u001b[0m\n\u001b[0;32m     21\u001b[0m all_splits \u001b[38;5;241m=\u001b[39m text_splitter\u001b[38;5;241m.\u001b[39msplit_documents(docs)\n\u001b[0;32m     23\u001b[0m \u001b[38;5;66;03m# Index chunks\u001b[39;00m\n\u001b[1;32m---> 24\u001b[0m _ \u001b[38;5;241m=\u001b[39m \u001b[43mvector_store\u001b[49m\u001b[38;5;241m.\u001b[39madd_documents(documents\u001b[38;5;241m=\u001b[39mall_splits)\n\u001b[0;32m     26\u001b[0m \u001b[38;5;66;03m# Define prompt for question-answering\u001b[39;00m\n\u001b[0;32m     27\u001b[0m prompt \u001b[38;5;241m=\u001b[39m hub\u001b[38;5;241m.\u001b[39mpull(\u001b[38;5;124m\"\u001b[39m\u001b[38;5;124mrlm/rag-prompt\u001b[39m\u001b[38;5;124m\"\u001b[39m)\n",
      "\u001b[1;31mNameError\u001b[0m: name 'vector_store' is not defined"
     ]
    }
   ],
   "source": [
    "import bs4\n",
    "from langchain import hub\n",
    "from langchain_community.document_loaders import WebBaseLoader\n",
    "from langchain_core.documents import Document\n",
    "from langchain_text_splitters import RecursiveCharacterTextSplitter\n",
    "from langgraph.graph import START, StateGraph\n",
    "from typing_extensions import List, TypedDict\n",
    "\n",
    "# Load and chunk contents of the blog\n",
    "loader = WebBaseLoader(\n",
    "    web_paths=(\"https://lilianweng.github.io/posts/2023-06-23-agent/\",),\n",
    "    bs_kwargs=dict(\n",
    "        parse_only=bs4.SoupStrainer(\n",
    "            class_=(\"post-content\", \"post-title\", \"post-header\")\n",
    "        )\n",
    "    ),\n",
    ")\n",
    "docs = loader.load()\n",
    "\n",
    "text_splitter = RecursiveCharacterTextSplitter(chunk_size=1000, chunk_overlap=200)\n",
    "all_splits = text_splitter.split_documents(docs)\n",
    "\n",
    "# Index chunks\n",
    "new_ = vector_store.add_documents(documents=all_splits)\n",
    "\n",
    "# Define prompt for question-answering\n",
    "prompt = hub.pull(\"rlm/rag-prompt\")\n",
    "\n",
    "\n",
    "# Define state for application\n",
    "class State(TypedDict):\n",
    "    question: str\n",
    "    context: List[Document]\n",
    "    answer: str\n",
    "\n",
    "\n",
    "# Define application steps\n",
    "def retrieve(state: State):\n",
    "    retrieved_docs = vector_store.similarity_search(state[\"question\"])\n",
    "    return {\"context\": retrieved_docs}\n",
    "\n",
    "\n",
    "def generate(state: State):\n",
    "    docs_content = \"\\n\\n\".join(doc.page_content for doc in state[\"context\"])\n",
    "    messages = prompt.invoke({\"question\": state[\"question\"], \"context\": docs_content})\n",
    "    response = llm.invoke(messages)\n",
    "    return {\"answer\": response.content}\n",
    "\n",
    "\n",
    "# Compile application and test\n",
    "graph_builder = StateGraph(State).add_sequence([retrieve, generate])\n",
    "graph_builder.add_edge(START, \"retrieve\")\n",
    "graph = graph_builder.compile()"
   ]
  },
  {
   "cell_type": "markdown",
   "id": "904c639c",
   "metadata": {},
   "source": [
    "Ejecuta un grafo de razonamiento"
   ]
  },
  {
   "cell_type": "code",
   "execution_count": null,
   "id": "045ade34",
   "metadata": {},
   "outputs": [],
   "source": [
    "response = graph.invoke({\"question\": \"What is Task Decomposition?\"})\n",
    "print(response[\"answer\"])"
   ]
  },
  {
   "cell_type": "markdown",
   "id": "379393bb",
   "metadata": {},
   "source": [
    "El código carga el contenido de una página web, filtrando solo los títulos, encabezados y el contenido principal. Luego, verifica que solo se haya obtenido un documento y muestra la cantidad de caracteres de su contenido."
   ]
  },
  {
   "cell_type": "code",
   "execution_count": 10,
   "id": "3c1f503d",
   "metadata": {},
   "outputs": [
    {
     "name": "stdout",
     "output_type": "stream",
     "text": [
      "Total characters: 43130\n"
     ]
    }
   ],
   "source": [
    "import bs4\n",
    "from langchain_community.document_loaders import WebBaseLoader\n",
    "\n",
    "# Only keep post title, headers, and content from the full HTML.\n",
    "bs4_strainer = bs4.SoupStrainer(class_=(\"post-title\", \"post-header\", \"post-content\"))\n",
    "loader = WebBaseLoader(\n",
    "    web_paths=(\"https://lilianweng.github.io/posts/2023-06-23-agent/\",),\n",
    "    bs_kwargs={\"parse_only\": bs4_strainer},\n",
    ")\n",
    "docs = loader.load()\n",
    "\n",
    "assert len(docs) == 1\n",
    "print(f\"Total characters: {len(docs[0].page_content)}\")"
   ]
  },
  {
   "cell_type": "markdown",
   "id": "71348d42",
   "metadata": {},
   "source": [
    "Se imprime"
   ]
  },
  {
   "cell_type": "code",
   "execution_count": 11,
   "id": "d0a31e53",
   "metadata": {},
   "outputs": [
    {
     "name": "stdout",
     "output_type": "stream",
     "text": [
      "\n",
      "\n",
      "      LLM Powered Autonomous Agents\n",
      "    \n",
      "Date: June 23, 2023  |  Estimated Reading Time: 31 min  |  Author: Lilian Weng\n",
      "\n",
      "\n",
      "Building agents with LLM (large language model) as its core controller is a cool concept. Several proof-of-concepts demos, such as AutoGPT, GPT-Engineer and BabyAGI, serve as inspiring examples. The potentiality of LLM extends beyond generating well-written copies, stories, essays and programs; it can be framed as a powerful general problem solver.\n",
      "Agent System Overview#\n",
      "In\n"
     ]
    }
   ],
   "source": [
    "print(docs[0].page_content[:500])"
   ]
  },
  {
   "cell_type": "markdown",
   "id": "f1a8e3fd",
   "metadata": {},
   "source": [
    "# División\n",
    "\n",
    "Nuestro documento cargado tiene más de 42 000 caracteres, lo cual es demasiado largo para caber en la ventana de contexto de muchos modelos. Incluso aquellos que pueden incluir la publicación completa en su ventana de contexto pueden tener dificultades para encontrar información en entradas muy largas.\n",
    "\n",
    "Para solucionar esto, dividiremos el Documentarchivo en fragmentos para su incrustación y almacenamiento vectorial. Esto debería permitirnos recuperar solo las partes más relevantes de la entrada del blog en tiempo de ejecución.\n"
   ]
  },
  {
   "cell_type": "code",
   "execution_count": null,
   "id": "0f22030e",
   "metadata": {},
   "outputs": [
    {
     "name": "stdout",
     "output_type": "stream",
     "text": [
      "Split blog post into 66 sub-documents.\n"
     ]
    }
   ],
   "source": [
    "from langchain_text_splitters import RecursiveCharacterTextSplitter\n",
    "\n",
    "text_splitter = RecursiveCharacterTextSplitter(\n",
    "    chunk_size=1000,  # chunk size (characters)\n",
    "    chunk_overlap=200,  # chunk overlap (characters)\n",
    "    add_start_index=True,  # track index in original document\n",
    ")\n",
    "all_splits = text_splitter.split_documents(docs)\n",
    "\n",
    "print(f\"Split blog post into {len(all_splits)} sub-documents.\")"
   ]
  },
  {
   "cell_type": "markdown",
   "id": "2bf5cd5d",
   "metadata": {},
   "source": [
    "#Almacenamiento\n",
    "\n",
    "Esta línea agrega los fragmentos de texto al almacén vectorial y guarda sus identificadores, luego imprime los primeros tres."
   ]
  },
  {
   "cell_type": "code",
   "execution_count": null,
   "id": "fdb558fa",
   "metadata": {},
   "outputs": [],
   "source": [
    "document_ids = vector_store.add_documents(documents=all_splits)\n",
    "\n",
    "print(document_ids[:3])"
   ]
  },
  {
   "cell_type": "markdown",
   "id": "4fa8946c",
   "metadata": {},
   "source": [
    "# Recuperación y generación\n",
    "\n",
    "El código obtiene un prompt predefinido de LangChain Hub llamado \"rlm/rag-prompt\", lo invoca con un contexto y una pregunta de ejemplo, convierte la respuesta en mensajes y verifica que solo haya un mensaje antes de imprimir su contenido."
   ]
  },
  {
   "cell_type": "code",
   "execution_count": 7,
   "id": "3c133681",
   "metadata": {},
   "outputs": [
    {
     "name": "stderr",
     "output_type": "stream",
     "text": [
      "c:\\Users\\laura\\AppData\\Local\\Programs\\Python\\Python312\\Lib\\site-packages\\langsmith\\client.py:277: LangSmithMissingAPIKeyWarning: API key must be provided when using hosted LangSmith API\n",
      "  warnings.warn(\n"
     ]
    },
    {
     "name": "stdout",
     "output_type": "stream",
     "text": [
      "You are an assistant for question-answering tasks. Use the following pieces of retrieved context to answer the question. If you don't know the answer, just say that you don't know. Use three sentences maximum and keep the answer concise.\n",
      "Question: (question goes here) \n",
      "Context: (context goes here) \n",
      "Answer:\n"
     ]
    }
   ],
   "source": [
    "from langchain import hub\n",
    "\n",
    "prompt = hub.pull(\"rlm/rag-prompt\")\n",
    "\n",
    "example_messages = prompt.invoke(\n",
    "    {\"context\": \"(context goes here)\", \"question\": \"(question goes here)\"}\n",
    ").to_messages()\n",
    "\n",
    "assert len(example_messages) == 1\n",
    "print(example_messages[0].content)"
   ]
  },
  {
   "cell_type": "markdown",
   "id": "ef90bc9d",
   "metadata": {},
   "source": [
    "Define una estructura de datos (State) para almacenar la pregunta, el contexto y la respuesta en un sistema RAG."
   ]
  },
  {
   "cell_type": "code",
   "execution_count": 1,
   "id": "759c5bb8",
   "metadata": {},
   "outputs": [],
   "source": [
    "from langchain_core.documents import Document\n",
    "from typing_extensions import List, TypedDict\n",
    "\n",
    "\n",
    "class State(TypedDict):\n",
    "    question: str\n",
    "    context: List[Document]\n",
    "    answer: str"
   ]
  },
  {
   "cell_type": "markdown",
   "id": "bc0d8036",
   "metadata": {},
   "source": [
    "Define dos funciones: retrieve, que busca documentos similares a la pregunta en el vector store, y generate, que usa esos documentos como contexto para generar una respuesta con el modelo de lenguaje."
   ]
  },
  {
   "cell_type": "code",
   "execution_count": 2,
   "id": "45b77802",
   "metadata": {},
   "outputs": [],
   "source": [
    "def retrieve(state: State):\n",
    "    retrieved_docs = vector_store.similarity_search(state[\"question\"])\n",
    "    return {\"context\": retrieved_docs}\n",
    "\n",
    "\n",
    "def generate(state: State):\n",
    "    docs_content = \"\\n\\n\".join(doc.page_content for doc in state[\"context\"])\n",
    "    messages = prompt.invoke({\"question\": state[\"question\"], \"context\": docs_content})\n",
    "    response = llm.invoke(messages)\n",
    "    return {\"answer\": response.content}"
   ]
  },
  {
   "cell_type": "markdown",
   "id": "51c2d29d",
   "metadata": {},
   "source": [
    "Conectamos los pasos de recuperación y generación en una sola secuencia."
   ]
  },
  {
   "cell_type": "code",
   "execution_count": 3,
   "id": "bb9838cc",
   "metadata": {},
   "outputs": [],
   "source": [
    "from langgraph.graph import START, StateGraph\n",
    "\n",
    "graph_builder = StateGraph(State).add_sequence([retrieve, generate])\n",
    "graph_builder.add_edge(START, \"retrieve\")\n",
    "graph = graph_builder.compile()"
   ]
  },
  {
   "cell_type": "markdown",
   "id": "2c712d90",
   "metadata": {},
   "source": [
    "Genera y muestra un diagrama en formato PNG del flujo del graph usando Mermaid."
   ]
  },
  {
   "cell_type": "code",
   "execution_count": 21,
   "id": "cad6e3d5",
   "metadata": {},
   "outputs": [
    {
     "data": {
      "image/png": "[encoded data removed]",
      "text/plain": [
       "<IPython.core.display.Image object>"
      ]
     },
     "metadata": {},
     "output_type": "display_data"
    }
   ],
   "source": [
    "from IPython.display import Image, display\n",
    "\n",
    "display(Image(graph.get_graph().draw_mermaid_png()))"
   ]
  },
  {
   "cell_type": "markdown",
   "id": "85fe12f1",
   "metadata": {},
   "source": [
    "Ejecuta el flujo del gráfico con la pregunta \"What is Task Decomposition?\", obtiene el contexto relevante y genera una respuesta, luego imprime ambos."
   ]
  },
  {
   "cell_type": "code",
   "execution_count": null,
   "id": "fcde13a1",
   "metadata": {},
   "outputs": [],
   "source": [
    "result = graph.invoke({\"question\": \"What is Task Decomposition?\"})\n",
    "\n",
    "print(f'Context: {result[\"context\"]}\\n\\n')\n",
    "print(f'Answer: {result[\"answer\"]}')"
   ]
  },
  {
   "cell_type": "markdown",
   "id": "64c492de",
   "metadata": {},
   "source": [
    "Ejecuta el flujo del gráfico en modo de transmisión, mostrando actualizaciones paso a paso de la ejecución del proceso."
   ]
  },
  {
   "cell_type": "code",
   "execution_count": null,
   "id": "167cf79e",
   "metadata": {},
   "outputs": [],
   "source": [
    "for step in graph.stream(\n",
    "    {\"question\": \"What is Task Decomposition?\"}, stream_mode=\"updates\"\n",
    "):\n",
    "    print(f\"{step}\\n\\n----------------\\n\")"
   ]
  },
  {
   "cell_type": "markdown",
   "id": "babe7e1a",
   "metadata": {},
   "source": [
    "Transmite los mensajes generados por el gráfico en tiempo real, imprimiendo el contenido de cada mensaje seguido de |."
   ]
  },
  {
   "cell_type": "code",
   "execution_count": null,
   "id": "8b095d57",
   "metadata": {},
   "outputs": [],
   "source": [
    "for message, metadata in graph.stream(\n",
    "    {\"question\": \"What is Task Decomposition?\"}, stream_mode=\"messages\"\n",
    "):\n",
    "    print(message.content, end=\"|\")"
   ]
  },
  {
   "cell_type": "markdown",
   "id": "93d3d19e",
   "metadata": {},
   "source": [
    "# Personalizar el mensaje"
   ]
  },
  {
   "cell_type": "code",
   "execution_count": 17,
   "id": "c6c5a64e",
   "metadata": {},
   "outputs": [],
   "source": [
    "from langchain_core.prompts import PromptTemplate\n",
    "\n",
    "template = \"\"\"Use the following pieces of context to answer the question at the end.\n",
    "If you don't know the answer, just say that you don't know, don't try to make up an answer.\n",
    "Use three sentences maximum and keep the answer as concise as possible.\n",
    "Always say \"thanks for asking!\" at the end of the answer.\n",
    "\n",
    "{context}\n",
    "\n",
    "Question: {question}\n",
    "\n",
    "Helpful Answer:\"\"\"\n",
    "custom_rag_prompt = PromptTemplate.from_template(template)"
   ]
  },
  {
   "cell_type": "markdown",
   "id": "3154a528",
   "metadata": {},
   "source": [
    "# Análisis de consultas\n",
    "\n",
    "Emplea modelos para transformar o construir consultas de búsqueda optimizadas a partir de la información sin procesar del usuario. "
   ]
  },
  {
   "cell_type": "code",
   "execution_count": 18,
   "id": "34ac0a2a",
   "metadata": {},
   "outputs": [
    {
     "data": {
      "text/plain": [
       "{'source': 'https://lilianweng.github.io/posts/2023-06-23-agent/',\n",
       " 'section': 'beginning'}"
      ]
     },
     "execution_count": 18,
     "metadata": {},
     "output_type": "execute_result"
    }
   ],
   "source": [
    "total_documents = len(all_splits)\n",
    "third = total_documents // 3\n",
    "\n",
    "for i, document in enumerate(all_splits):\n",
    "    if i < third:\n",
    "        document.metadata[\"section\"] = \"beginning\"\n",
    "    elif i < 2 * third:\n",
    "        document.metadata[\"section\"] = \"middle\"\n",
    "    else:\n",
    "        document.metadata[\"section\"] = \"end\"\n",
    "\n",
    "\n",
    "all_splits[0].metadata"
   ]
  },
  {
   "cell_type": "markdown",
   "id": "fd65a2ce",
   "metadata": {},
   "source": [
    "Actualizar los documentos en nuestro almacén de vectores. "
   ]
  },
  {
   "cell_type": "code",
   "execution_count": null,
   "id": "7925ac07",
   "metadata": {},
   "outputs": [],
   "source": [
    "from langchain_core.vectorstores import InMemoryVectorStore\n",
    "\n",
    "vector_store = InMemoryVectorStore(embeddings)\n",
    "_ = vector_store.add_documents(all_splits)"
   ]
  },
  {
   "cell_type": "markdown",
   "id": "79addd0f",
   "metadata": {},
   "source": [
    "Define un diccionario tipado para representar una consulta de búsqueda con una pregunta y una sección específica."
   ]
  },
  {
   "cell_type": "code",
   "execution_count": 6,
   "id": "3b10f4bd",
   "metadata": {},
   "outputs": [],
   "source": [
    "from typing import Literal\n",
    "\n",
    "from typing_extensions import Annotated\n",
    "\n",
    "\n",
    "class Search(TypedDict):\n",
    "    \"\"\"Search query.\"\"\"\n",
    "\n",
    "    query: Annotated[str, ..., \"Search query to run.\"]\n",
    "    section: Annotated[\n",
    "        Literal[\"beginning\", \"middle\", \"end\"],\n",
    "        ...,\n",
    "        \"Section to query.\",\n",
    "    ]"
   ]
  },
  {
   "cell_type": "markdown",
   "id": "ef9a96a6",
   "metadata": {},
   "source": [
    "Generar una consulta a partir de la entrada sin procesar del usuario:"
   ]
  },
  {
   "cell_type": "code",
   "execution_count": null,
   "id": "145467fd",
   "metadata": {},
   "outputs": [],
   "source": [
    "from typing import Literal\n",
    "\n",
    "import bs4\n",
    "from langchain import hub\n",
    "from langchain_community.document_loaders import WebBaseLoader\n",
    "from langchain_core.documents import Document\n",
    "from langchain_core.vectorstores import InMemoryVectorStore\n",
    "from langchain_text_splitters import RecursiveCharacterTextSplitter\n",
    "from langgraph.graph import START, StateGraph\n",
    "from typing_extensions import Annotated, List, TypedDict\n",
    "\n",
    "# Load and chunk contents of the blog\n",
    "loader = WebBaseLoader(\n",
    "    web_paths=(\"https://lilianweng.github.io/posts/2023-06-23-agent/\",),\n",
    "    bs_kwargs=dict(\n",
    "        parse_only=bs4.SoupStrainer(\n",
    "            class_=(\"post-content\", \"post-title\", \"post-header\")\n",
    "        )\n",
    "    ),\n",
    ")\n",
    "docs = loader.load()\n",
    "\n",
    "text_splitter = RecursiveCharacterTextSplitter(chunk_size=1000, chunk_overlap=200)\n",
    "all_splits = text_splitter.split_documents(docs)\n",
    "\n",
    "\n",
    "# Update metadata (illustration purposes)\n",
    "total_documents = len(all_splits)\n",
    "third = total_documents // 3\n",
    "\n",
    "for i, document in enumerate(all_splits):\n",
    "    if i < third:\n",
    "        document.metadata[\"section\"] = \"beginning\"\n",
    "    elif i < 2 * third:\n",
    "        document.metadata[\"section\"] = \"middle\"\n",
    "    else:\n",
    "        document.metadata[\"section\"] = \"end\"\n",
    "\n",
    "\n",
    "# Index chunks\n",
    "vector_store = InMemoryVectorStore(embeddings)\n",
    "_ = vector_store.add_documents(all_splits)\n",
    "\n",
    "\n",
    "# Define schema for search\n",
    "class Search(TypedDict):\n",
    "    \"\"\"Search query.\"\"\"\n",
    "\n",
    "    query: Annotated[str, ..., \"Search query to run.\"]\n",
    "    section: Annotated[\n",
    "        Literal[\"beginning\", \"middle\", \"end\"],\n",
    "        ...,\n",
    "        \"Section to query.\",\n",
    "    ]\n",
    "\n",
    "# Define prompt for question-answering\n",
    "prompt = hub.pull(\"rlm/rag-prompt\")\n",
    "\n",
    "\n",
    "# Define state for application\n",
    "class State(TypedDict):\n",
    "    question: str\n",
    "    query: Search\n",
    "    context: List[Document]\n",
    "    answer: str\n",
    "\n",
    "\n",
    "def analyze_query(state: State):\n",
    "    structured_llm = llm.with_structured_output(Search)\n",
    "    query = structured_llm.invoke(state[\"question\"])\n",
    "    return {\"query\": query}\n",
    "\n",
    "\n",
    "def retrieve(state: State):\n",
    "    query = state[\"query\"]\n",
    "    retrieved_docs = vector_store.similarity_search(\n",
    "        query[\"query\"],\n",
    "        filter=lambda doc: doc.metadata.get(\"section\") == query[\"section\"],\n",
    "    )\n",
    "    return {\"context\": retrieved_docs}\n",
    "\n",
    "\n",
    "def generate(state: State):\n",
    "    docs_content = \"\\n\\n\".join(doc.page_content for doc in state[\"context\"])\n",
    "    messages = prompt.invoke({\"question\": state[\"question\"], \"context\": docs_content})\n",
    "    response = llm.invoke(messages)\n",
    "    return {\"answer\": response.content}\n",
    "\n",
    "\n",
    "graph_builder = StateGraph(State).add_sequence([analyze_query, retrieve, generate])\n",
    "graph_builder.add_edge(START, \"analyze_query\")\n",
    "graph = graph_builder.compile()"
   ]
  },
  {
   "cell_type": "code",
   "execution_count": null,
   "id": "c2101657",
   "metadata": {},
   "outputs": [],
   "source": [
    "display(Image(graph.get_graph().draw_mermaid_png()))"
   ]
  },
  {
   "cell_type": "markdown",
   "id": "020ea63c",
   "metadata": {},
   "source": [
    "Probar nuestra implementación solicitando específicamente el contexto al final de la publicación."
   ]
  },
  {
   "cell_type": "code",
   "execution_count": null,
   "id": "60f279a0",
   "metadata": {},
   "outputs": [],
   "source": [
    "for step in graph.stream(\n",
    "    {\"question\": \"What does the end of the post say about Task Decomposition?\"},\n",
    "    stream_mode=\"updates\",\n",
    "):\n",
    "    print(f\"{step}\\n\\n----------------\\n\")"
   ]
  },
  {
   "cell_type": "markdown",
   "id": "d53256eb",
   "metadata": {},
   "source": [
    "# Herramientas utilizadas en este proyecto\n",
    "\n",
    "1. LangChain - Framework para construir aplicaciones con modelos de lenguaje.\n",
    "\n",
    "2. LangChain Hub - Repositorio de prompts predefinidos.\n",
    "\n",
    "3. LangChain Community - Módulos adicionales como WebBaseLoader para cargar documentos web.\n",
    "\n",
    "4. LangChain Core - Componentes esenciales como Document y StateGraph.\n",
    "\n",
    "5. Pinecone - Base de datos vectorial para almacenar y recuperar documentos.\n",
    "\n",
    "6. OpenAI - Proveedor de embeddings y modelos de lenguaje.\n",
    "\n",
    "7. BeautifulSoup (bs4) - Para extraer contenido específico de páginas web.\n",
    "\n",
    "8. IPython.display - Para visualizar gráficos generados con graph.draw_mermaid_png().\n",
    "\n",
    "9. Typing Extensions - Para definiciones avanzadas de tipos como TypedDict y Annotated.\n",
    "\n",
    "# Desarrollado por : Laura Valentina Rodríguez Ortegón"
   ]
  }
 ],
 "metadata": {
  "kernelspec": {
   "display_name": "Python 3",
   "language": "python",
   "name": "python3"
  },
  "language_info": {
   "codemirror_mode": {
    "name": "ipython",
    "version": 3
   },
   "file_extension": ".py",
   "mimetype": "text/x-python",
   "name": "python",
   "nbconvert_exporter": "python",
   "pygments_lexer": "ipython3",
   "version": "3.12.0"
  }
 },
 "nbformat": 4,
 "nbformat_minor": 5
}
